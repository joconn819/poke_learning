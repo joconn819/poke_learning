{
 "cells": [
  {
   "cell_type": "code",
   "execution_count": 1,
   "metadata": {},
   "outputs": [
    {
     "name": "stderr",
     "output_type": "stream",
     "text": [
      "2025-02-11 17:01:56,834 - RandomPlayer 1 - WARNING - Unmanaged move message format received - cleaned up message ['', 'move', 'p2a: Armarouge', 'Meteor Beam', 'p1a: Magnezone', '[from] lockedmove'] in battle battle-gen9randombattle-38 turn 11\n",
      "2025-02-11 17:01:56,842 - RandomPlayer 2 - WARNING - Unmanaged move message format received - cleaned up message ['', 'move', 'p2a: Armarouge', 'Meteor Beam', 'p1a: Magnezone', '[from] lockedmove'] in battle battle-gen9randombattle-38 turn 11\n",
      "2025-02-11 17:01:57,084 - RandomPlayer 1 - WARNING - Unmanaged move message format received - cleaned up message ['', 'move', 'p1a: Dragonite', 'Outrage', 'p2a: Swalot', '[from] lockedmove'] in battle battle-gen9randombattle-39 turn 32\n",
      "2025-02-11 17:01:57,084 - RandomPlayer 2 - WARNING - Unmanaged move message format received - cleaned up message ['', 'move', 'p1a: Dragonite', 'Outrage', 'p2a: Swalot', '[from] lockedmove'] in battle battle-gen9randombattle-39 turn 32\n",
      "2025-02-11 17:01:57,725 - RandomPlayer 2 - WARNING - Unmanaged move message format received - cleaned up message ['', 'move', 'p2a: Regidrago', 'Outrage', 'p1a: Eiscue', '[from] lockedmove'] in battle battle-gen9randombattle-41 turn 9\n",
      "2025-02-11 17:01:57,727 - RandomPlayer 1 - WARNING - Unmanaged move message format received - cleaned up message ['', 'move', 'p2a: Regidrago', 'Outrage', 'p1a: Eiscue', '[from] lockedmove'] in battle battle-gen9randombattle-41 turn 9\n",
      "2025-02-11 17:01:57,729 - RandomPlayer 1 - WARNING - Unmanaged move message format received - cleaned up message ['', 'move', 'p2a: Regidrago', 'Outrage', 'p1a: Sunflora', '[from] lockedmove'] in battle battle-gen9randombattle-41 turn 10\n",
      "2025-02-11 17:01:57,729 - RandomPlayer 2 - WARNING - Unmanaged move message format received - cleaned up message ['', 'move', 'p2a: Regidrago', 'Outrage', 'p1a: Sunflora', '[from] lockedmove'] in battle battle-gen9randombattle-41 turn 10\n"
     ]
    },
    {
     "name": "stdout",
     "output_type": "stream",
     "text": [
      "player 1 played battle:  battle-gen9randombattle-32  and  won\n",
      "player 1 played battle:  battle-gen9randombattle-33  and  lost\n",
      "player 1 played battle:  battle-gen9randombattle-34  and  lost\n",
      "player 1 played battle:  battle-gen9randombattle-35  and  lost\n",
      "player 1 played battle:  battle-gen9randombattle-36  and  won\n",
      "player 1 played battle:  battle-gen9randombattle-37  and  lost\n",
      "player 1 played battle:  battle-gen9randombattle-38  and  won\n",
      "player 1 played battle:  battle-gen9randombattle-39  and  won\n",
      "player 1 played battle:  battle-gen9randombattle-40  and  won\n",
      "player 1 played battle:  battle-gen9randombattle-41  and  lost\n"
     ]
    }
   ],
   "source": [
    "from poke_env import AccountConfiguration, Player, RandomPlayer\n",
    "\n",
    "# Auto-generated configuration for local use\n",
    "player1 = RandomPlayer()\n",
    "player2 = RandomPlayer()\n",
    "\n",
    "await player1.battle_against(player2, n_battles=10)\n",
    "\n",
    "for battle_tag, battle in player1.battles.items():\n",
    "    won_txt = \"lost\"\n",
    "    if battle.won:\n",
    "        won_txt = \"won\"\n",
    "    print(\"player 1 played battle: \", battle_tag, \" and \", won_txt)"
   ]
  },
  {
   "cell_type": "code",
   "execution_count": null,
   "metadata": {},
   "outputs": [
    {
     "name": "stdout",
     "output_type": "stream",
     "text": [
      "charizard (male) @ charizardite x\n",
      "Ability: blaze\n",
      "EVs: 252 HP / 252 Atk / 4 SpD\n",
      "Adamant Nature\n",
      "IVs: \n",
      "- flare blitz\n",
      "- dragon claw\n",
      "- heat wave\n",
      "- earthquake\n",
      "\n"
     ]
    }
   ],
   "source": [
    "from poke_env.player import RandomPlayer\n",
    "from team_builders.all_charizard import AllCharizard\n",
    "  \n",
    "\n",
    "team_builder = AllCharizard()\n",
    "\n",
    "print(team_builder.yield_team())\n",
    "\n",
    "player_1 = RandomPlayer(\n",
    "    battle_format=\"gen8anythinggoes\",\n",
    "    team=team_builder\n",
    ")\n",
    "player_2 = RandomPlayer(\n",
    "    battle_format=\"gen8anythinggoes\",\n",
    "    team=team_builder\n",
    ")\n",
    "\n",
    "await player_1.battle_against(player_2, n_battles=1)\n",
    "\n",
    "for battle_tag, battle in player1.battles.items():\n",
    "    won_txt = \"lost\"\n",
    "    if battle.won:\n",
    "        won_txt = \"won\"\n",
    "    print(\"player 1 played battle: \", battle_tag, \" and \", won_txt)"
   ]
  }
 ],
 "metadata": {
  "kernelspec": {
   "display_name": "Python 3",
   "language": "python",
   "name": "python3"
  },
  "language_info": {
   "codemirror_mode": {
    "name": "ipython",
    "version": 3
   },
   "file_extension": ".py",
   "mimetype": "text/x-python",
   "name": "python",
   "nbconvert_exporter": "python",
   "pygments_lexer": "ipython3",
   "version": "3.11.9"
  }
 },
 "nbformat": 4,
 "nbformat_minor": 2
}
