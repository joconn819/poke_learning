{
 "cells": [
  {
   "cell_type": "code",
   "execution_count": 1,
   "metadata": {},
   "outputs": [
    {
     "name": "stderr",
     "output_type": "stream",
     "text": [
      "2025-02-11 14:51:18,031 - RandomPlayer 2 - WARNING - Unmanaged move message format received - cleaned up message ['', 'move', 'p2a: Salamence', 'Outrage', 'p1a: Froslass', '[from] lockedmove'] in battle battle-gen9randombattle-20 turn 8\n",
      "2025-02-11 14:51:18,033 - RandomPlayer 1 - WARNING - Unmanaged move message format received - cleaned up message ['', 'move', 'p2a: Salamence', 'Outrage', 'p1a: Froslass', '[from] lockedmove'] in battle battle-gen9randombattle-20 turn 8\n",
      "2025-02-11 14:51:18,112 - RandomPlayer 2 - WARNING - Unmanaged move message format received - cleaned up message ['', 'move', 'p2a: Archaludon', 'Outrage', 'p1a: Pelipper', '[from] lockedmove'] in battle battle-gen9randombattle-20 turn 32\n",
      "2025-02-11 14:51:18,112 - RandomPlayer 1 - WARNING - Unmanaged move message format received - cleaned up message ['', 'move', 'p2a: Archaludon', 'Outrage', 'p1a: Pelipper', '[from] lockedmove'] in battle battle-gen9randombattle-20 turn 32\n",
      "2025-02-11 14:51:18,144 - RandomPlayer 2 - WARNING - Unmanaged move message format received - cleaned up message ['', 'move', 'p2a: Archaludon', 'Outrage', 'p1a: Toxapex', '[from] lockedmove'] in battle battle-gen9randombattle-20 turn 41\n",
      "2025-02-11 14:51:18,145 - RandomPlayer 1 - WARNING - Unmanaged move message format received - cleaned up message ['', 'move', 'p2a: Archaludon', 'Outrage', 'p1a: Toxapex', '[from] lockedmove'] in battle battle-gen9randombattle-20 turn 41\n"
     ]
    },
    {
     "name": "stdout",
     "output_type": "stream",
     "text": [
      "player 1 played battle:  battle-gen9randombattle-11  and  won\n",
      "player 1 played battle:  battle-gen9randombattle-12  and  lost\n",
      "player 1 played battle:  battle-gen9randombattle-13  and  lost\n",
      "player 1 played battle:  battle-gen9randombattle-14  and  lost\n",
      "player 1 played battle:  battle-gen9randombattle-15  and  won\n",
      "player 1 played battle:  battle-gen9randombattle-16  and  lost\n",
      "player 1 played battle:  battle-gen9randombattle-17  and  won\n",
      "player 1 played battle:  battle-gen9randombattle-18  and  won\n",
      "player 1 played battle:  battle-gen9randombattle-19  and  lost\n",
      "player 1 played battle:  battle-gen9randombattle-20  and  won\n"
     ]
    }
   ],
   "source": [
    "from poke_env import AccountConfiguration, Player, RandomPlayer\n",
    "\n",
    "# Auto-generated configuration for local use\n",
    "player1 = RandomPlayer()\n",
    "player2 = RandomPlayer()\n",
    "\n",
    "await player1.battle_against(player2, n_battles=10)\n",
    "\n",
    "for battle_tag, battle in player1.battles.items():\n",
    "    won_txt = \"lost\"\n",
    "    if battle.won:\n",
    "        won_txt = \"won\"\n",
    "    print(\"player 1 played battle: \", battle_tag, \" and \", won_txt)"
   ]
  },
  {
   "cell_type": "code",
   "execution_count": null,
   "metadata": {},
   "outputs": [],
   "source": []
  }
 ],
 "metadata": {
  "kernelspec": {
   "display_name": "Python 3",
   "language": "python",
   "name": "python3"
  },
  "language_info": {
   "codemirror_mode": {
    "name": "ipython",
    "version": 3
   },
   "file_extension": ".py",
   "mimetype": "text/x-python",
   "name": "python",
   "nbconvert_exporter": "python",
   "pygments_lexer": "ipython3",
   "version": "3.11.9"
  }
 },
 "nbformat": 4,
 "nbformat_minor": 2
}
