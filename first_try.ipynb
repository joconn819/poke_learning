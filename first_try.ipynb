{
 "cells": [
  {
   "cell_type": "code",
   "execution_count": 2,
   "metadata": {},
   "outputs": [
    {
     "name": "stderr",
     "output_type": "stream",
     "text": [
      "2025-02-11 13:34:48,452 - RandomPlayer 1 - WARNING - Unmanaged move message format received - cleaned up message ['', 'move', 'p1a: Ursaring', 'Rest', '', '[from] move: Sleep Talk'] in battle battle-gen9randombattle-2 turn 55\n",
      "2025-02-11 13:34:48,473 - RandomPlayer 2 - WARNING - Unmanaged move message format received - cleaned up message ['', 'move', 'p1a: Ursaring', 'Rest', '', '[from] move: Sleep Talk'] in battle battle-gen9randombattle-2 turn 55\n",
      "2025-02-11 13:34:49,521 - RandomPlayer 2 - WARNING - Unmanaged move message format received - cleaned up message ['', 'move', 'p2a: Archaludon', 'Outrage', 'p1a: Revavroom', '[from] lockedmove'] in battle battle-gen9randombattle-7 turn 2\n",
      "2025-02-11 13:34:49,521 - RandomPlayer 1 - WARNING - Unmanaged move message format received - cleaned up message ['', 'move', 'p2a: Archaludon', 'Outrage', 'p1a: Revavroom', '[from] lockedmove'] in battle battle-gen9randombattle-7 turn 2\n",
      "2025-02-11 13:34:49,531 - RandomPlayer 2 - WARNING - Unmanaged move message format received - cleaned up message ['', 'move', 'p2a: Archaludon', 'Outrage', 'p1a: Regieleki', '[from] lockedmove'] in battle battle-gen9randombattle-7 turn 3\n",
      "2025-02-11 13:34:49,534 - RandomPlayer 1 - WARNING - Unmanaged move message format received - cleaned up message ['', 'move', 'p2a: Archaludon', 'Outrage', 'p1a: Regieleki', '[from] lockedmove'] in battle battle-gen9randombattle-7 turn 3\n",
      "2025-02-11 13:34:49,626 - RandomPlayer 2 - WARNING - Unmanaged move message format received - cleaned up message ['', 'move', 'p2a: Archaludon', 'Outrage', 'p1a: Exeggutor', '[from] lockedmove'] in battle battle-gen9randombattle-7 turn 29\n",
      "2025-02-11 13:34:49,627 - RandomPlayer 1 - WARNING - Unmanaged move message format received - cleaned up message ['', 'move', 'p2a: Archaludon', 'Outrage', 'p1a: Exeggutor', '[from] lockedmove'] in battle battle-gen9randombattle-7 turn 29\n",
      "2025-02-11 13:34:49,687 - RandomPlayer 2 - WARNING - Unmanaged move message format received - cleaned up message ['', 'move', 'p2a: Archaludon', 'Outrage', 'p1a: Regieleki', '[from] lockedmove'] in battle battle-gen9randombattle-7 turn 47\n",
      "2025-02-11 13:34:49,687 - RandomPlayer 1 - WARNING - Unmanaged move message format received - cleaned up message ['', 'move', 'p2a: Archaludon', 'Outrage', 'p1a: Regieleki', '[from] lockedmove'] in battle battle-gen9randombattle-7 turn 47\n",
      "2025-02-11 13:34:49,702 - RandomPlayer 2 - WARNING - Unmanaged move message format received - cleaned up message ['', 'move', 'p2a: Archaludon', 'Outrage', 'p1a: Ursaring', '[from] lockedmove'] in battle battle-gen9randombattle-7 turn 48\n",
      "2025-02-11 13:34:49,702 - RandomPlayer 1 - WARNING - Unmanaged move message format received - cleaned up message ['', 'move', 'p2a: Archaludon', 'Outrage', 'p1a: Ursaring', '[from] lockedmove'] in battle battle-gen9randombattle-7 turn 48\n"
     ]
    },
    {
     "name": "stdout",
     "output_type": "stream",
     "text": [
      "player 1 played battle:  battle-gen9randombattle-1  and  won\n",
      "player 1 played battle:  battle-gen9randombattle-2  and  won\n",
      "player 1 played battle:  battle-gen9randombattle-3  and  lost\n",
      "player 1 played battle:  battle-gen9randombattle-4  and  won\n",
      "player 1 played battle:  battle-gen9randombattle-5  and  lost\n",
      "player 1 played battle:  battle-gen9randombattle-6  and  lost\n",
      "player 1 played battle:  battle-gen9randombattle-7  and  lost\n",
      "player 1 played battle:  battle-gen9randombattle-8  and  won\n",
      "player 1 played battle:  battle-gen9randombattle-9  and  lost\n",
      "player 1 played battle:  battle-gen9randombattle-10  and  lost\n"
     ]
    }
   ],
   "source": [
    "from poke_env import AccountConfiguration, Player, RandomPlayer\n",
    "\n",
    "# Auto-generated configuration for local use\n",
    "player1 = RandomPlayer()\n",
    "player2 = RandomPlayer()\n",
    "\n",
    "await player1.battle_against(player2, n_battles=10)\n",
    "\n",
    "for battle_tag, battle in player1.battles.items():\n",
    "    won_txt = \"lost\"\n",
    "    if battle.won:\n",
    "        won_txt = \"won\"\n",
    "    print(\"player 1 played battle: \", battle_tag, \" and \", won_txt)"
   ]
  }
 ],
 "metadata": {
  "kernelspec": {
   "display_name": "Python 3",
   "language": "python",
   "name": "python3"
  },
  "language_info": {
   "codemirror_mode": {
    "name": "ipython",
    "version": 3
   },
   "file_extension": ".py",
   "mimetype": "text/x-python",
   "name": "python",
   "nbconvert_exporter": "python",
   "pygments_lexer": "ipython3",
   "version": "3.11.9"
  }
 },
 "nbformat": 4,
 "nbformat_minor": 2
}
