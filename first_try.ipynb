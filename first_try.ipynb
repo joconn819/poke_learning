{
 "cells": [
  {
   "cell_type": "code",
   "execution_count": 6,
   "metadata": {},
   "outputs": [
    {
     "name": "stderr",
     "output_type": "stream",
     "text": [
      "2025-02-17 14:09:46,377 - RandomPlayer 7 - WARNING - Unmanaged move message format received - cleaned up message ['', 'move', 'p1a: Espeon', 'Glare', 'p2a: Dudunsparce', '[from] ability: Magic Bounce'] in battle battle-gen9randombattle-66 turn 28\n",
      "2025-02-17 14:09:46,380 - RandomPlayer 8 - WARNING - Unmanaged move message format received - cleaned up message ['', 'move', 'p1a: Espeon', 'Glare', 'p2a: Dudunsparce', '[from] ability: Magic Bounce'] in battle battle-gen9randombattle-66 turn 28\n",
      "2025-02-17 14:09:46,465 - RandomPlayer 8 - WARNING - Unmanaged move message format received - cleaned up message ['', 'move', 'p2a: Lilligant', 'Petal Dance', 'p1a: Solgaleo', '[from] lockedmove'] in battle battle-gen9randombattle-67 turn 5\n",
      "2025-02-17 14:09:46,467 - RandomPlayer 7 - WARNING - Unmanaged move message format received - cleaned up message ['', 'move', 'p2a: Lilligant', 'Petal Dance', 'p1a: Solgaleo', '[from] lockedmove'] in battle battle-gen9randombattle-67 turn 5\n",
      "2025-02-17 14:09:46,470 - RandomPlayer 8 - WARNING - Unmanaged move message format received - cleaned up message ['', 'move', 'p2a: Lilligant', 'Petal Dance', 'p1a: Solgaleo', '[from] lockedmove'] in battle battle-gen9randombattle-67 turn 6\n",
      "2025-02-17 14:09:46,471 - RandomPlayer 7 - WARNING - Unmanaged move message format received - cleaned up message ['', 'move', 'p2a: Lilligant', 'Petal Dance', 'p1a: Solgaleo', '[from] lockedmove'] in battle battle-gen9randombattle-67 turn 6\n",
      "2025-02-17 14:09:46,633 - RandomPlayer 7 - WARNING - Unmanaged move message format received - cleaned up message ['', 'move', 'p1a: Rayquaza', 'Outrage', 'p2a: Noivern', '[from] lockedmove'] in battle battle-gen9randombattle-68 turn 8\n",
      "2025-02-17 14:09:46,634 - RandomPlayer 8 - WARNING - Unmanaged move message format received - cleaned up message ['', 'move', 'p1a: Rayquaza', 'Outrage', 'p2a: Noivern', '[from] lockedmove'] in battle battle-gen9randombattle-68 turn 8\n",
      "2025-02-17 14:09:46,638 - RandomPlayer 8 - WARNING - Unmanaged move message format received - cleaned up message ['', 'move', 'p1a: Rayquaza', 'Outrage', 'p2a: Sneasler', '[from] lockedmove'] in battle battle-gen9randombattle-68 turn 9\n",
      "2025-02-17 14:09:46,640 - RandomPlayer 7 - WARNING - Unmanaged move message format received - cleaned up message ['', 'move', 'p1a: Rayquaza', 'Outrage', 'p2a: Sneasler', '[from] lockedmove'] in battle battle-gen9randombattle-68 turn 9\n",
      "2025-02-17 14:09:47,092 - RandomPlayer 7 - WARNING - Unmanaged move message format received - cleaned up message ['', 'move', 'p2a: Salamence', 'Outrage', 'p1a: Gallade', '[from] lockedmove'] in battle battle-gen9randombattle-71 turn 15\n",
      "2025-02-17 14:09:47,093 - RandomPlayer 8 - WARNING - Unmanaged move message format received - cleaned up message ['', 'move', 'p2a: Salamence', 'Outrage', 'p1a: Gallade', '[from] lockedmove'] in battle battle-gen9randombattle-71 turn 15\n",
      "2025-02-17 14:09:47,096 - RandomPlayer 8 - WARNING - Unmanaged move message format received - cleaned up message ['', 'move', 'p2a: Salamence', 'Outrage', 'p1a: Gallade', '[from] lockedmove'] in battle battle-gen9randombattle-71 turn 16\n",
      "2025-02-17 14:09:47,096 - RandomPlayer 7 - WARNING - Unmanaged move message format received - cleaned up message ['', 'move', 'p2a: Salamence', 'Outrage', 'p1a: Gallade', '[from] lockedmove'] in battle battle-gen9randombattle-71 turn 16\n"
     ]
    },
    {
     "name": "stdout",
     "output_type": "stream",
     "text": [
      "player 1 played battle:  battle-gen9randombattle-62  and  lost\n",
      "player 1 played battle:  battle-gen9randombattle-63  and  won\n",
      "player 1 played battle:  battle-gen9randombattle-64  and  lost\n",
      "player 1 played battle:  battle-gen9randombattle-65  and  won\n",
      "player 1 played battle:  battle-gen9randombattle-66  and  won\n",
      "player 1 played battle:  battle-gen9randombattle-67  and  lost\n",
      "player 1 played battle:  battle-gen9randombattle-68  and  won\n",
      "player 1 played battle:  battle-gen9randombattle-69  and  won\n",
      "player 1 played battle:  battle-gen9randombattle-70  and  won\n",
      "player 1 played battle:  battle-gen9randombattle-71  and  won\n"
     ]
    }
   ],
   "source": [
    "from poke_env import AccountConfiguration, Player, RandomPlayer\n",
    "\n",
    "# Auto-generated configuration for local use\n",
    "player1 = RandomPlayer()\n",
    "player2 = RandomPlayer()\n",
    "\n",
    "await player1.battle_against(player2, n_battles=10)\n",
    "\n",
    "for battle_tag, battle in player1.battles.items():\n",
    "    won_txt = \"lost\"\n",
    "    if battle.won:\n",
    "        won_txt = \"won\"\n",
    "    print(\"player 1 played battle: \", battle_tag, \" and \", won_txt)"
   ]
  },
  {
   "cell_type": "code",
   "execution_count": 3,
   "metadata": {},
   "outputs": [
    {
     "name": "stdout",
     "output_type": "stream",
     "text": [
      "charizard|charizard|assaultvest|blaze|flareblitz,dragonclaw,heatwave,earthquake|Adamant|252,252,,,4,|M||||\n",
      "player 1 played battle:  battle-gen8anythinggoes-32  and  won\n",
      "player 1 played battle:  battle-gen8anythinggoes-33  and  lost\n",
      "player 1 played battle:  battle-gen8anythinggoes-34  and  lost\n",
      "player 1 played battle:  battle-gen8anythinggoes-35  and  lost\n",
      "player 1 played battle:  battle-gen8anythinggoes-36  and  won\n",
      "player 1 played battle:  battle-gen8anythinggoes-37  and  lost\n",
      "player 1 played battle:  battle-gen8anythinggoes-38  and  lost\n",
      "player 1 played battle:  battle-gen8anythinggoes-39  and  won\n",
      "player 1 played battle:  battle-gen8anythinggoes-40  and  won\n",
      "player 1 played battle:  battle-gen8anythinggoes-41  and  lost\n"
     ]
    }
   ],
   "source": [
    "from poke_env.player import RandomPlayer\n",
    "from team_builders.all_charizard import AllCharizard\n",
    "  \n",
    "\n",
    "team_builder = AllCharizard()\n",
    "\n",
    "print(team_builder.yield_team())\n",
    "\n",
    "player_1 = RandomPlayer(\n",
    "    battle_format=\"gen8anythinggoes\",\n",
    "    team=team_builder\n",
    ")\n",
    "player_2 = RandomPlayer(\n",
    "    battle_format=\"gen8anythinggoes\",\n",
    "    team=team_builder\n",
    ")\n",
    "\n",
    "await player_1.battle_against(player_2, n_battles=10)\n",
    "\n",
    "for battle_tag, battle in player_1.battles.items():\n",
    "    won_txt = \"lost\"\n",
    "    if battle.won:\n",
    "        won_txt = \"won\"\n",
    "    print(\"player 1 played battle: \", battle_tag, \" and \", won_txt)"
   ]
  },
  {
   "cell_type": "code",
   "execution_count": 4,
   "metadata": {},
   "outputs": [
    {
     "name": "stdout",
     "output_type": "stream",
     "text": [
      "player 1 played battle:  battle-gen9anythinggoes-42  and  won\n",
      "player 1 played battle:  battle-gen9anythinggoes-43  and  lost\n",
      "player 1 played battle:  battle-gen9anythinggoes-44  and  won\n",
      "player 1 played battle:  battle-gen9anythinggoes-45  and  lost\n",
      "player 1 played battle:  battle-gen9anythinggoes-46  and  won\n",
      "player 1 played battle:  battle-gen9anythinggoes-47  and  won\n",
      "player 1 played battle:  battle-gen9anythinggoes-48  and  lost\n",
      "player 1 played battle:  battle-gen9anythinggoes-49  and  won\n",
      "player 1 played battle:  battle-gen9anythinggoes-50  and  won\n",
      "player 1 played battle:  battle-gen9anythinggoes-51  and  won\n"
     ]
    }
   ],
   "source": [
    "from monsters.premade_teams import get_team_1, get_team_2\n",
    "from team_builders.random_order_team import RandomOrderTeam\n",
    "from poke_env.player import RandomPlayer\n",
    "\n",
    "team_builder_1 = RandomOrderTeam(get_team_1())\n",
    "\n",
    "team_builder_2 = RandomOrderTeam(get_team_2())\n",
    "\n",
    "player_1 = RandomPlayer(\n",
    "    battle_format=\"gen9anythinggoes\",\n",
    "    team=team_builder_1\n",
    ")\n",
    "\n",
    "player_2 = RandomPlayer(\n",
    "    battle_format=\"gen9anythinggoes\",\n",
    "    team=team_builder_2\n",
    ")\n",
    "\n",
    "await player_1.battle_against(player_2, n_battles=10)\n",
    "\n",
    "for battle_tag, battle in player_1.battles.items():\n",
    "    won_txt = \"lost\"\n",
    "    if battle.won:\n",
    "        won_txt = \"won\"\n",
    "    print(\"player 1 played battle: \", battle_tag, \" and \", won_txt)"
   ]
  },
  {
   "cell_type": "code",
   "execution_count": 5,
   "metadata": {},
   "outputs": [
    {
     "name": "stdout",
     "output_type": "stream",
     "text": [
      "player 1 played battle:  battle-gen9vgc2025regg-52  and  lost\n",
      "player 1 played battle:  battle-gen9vgc2025regg-53  and  won\n",
      "player 1 played battle:  battle-gen9vgc2025regg-54  and  lost\n",
      "player 1 played battle:  battle-gen9vgc2025regg-55  and  won\n",
      "player 1 played battle:  battle-gen9vgc2025regg-56  and  lost\n",
      "player 1 played battle:  battle-gen9vgc2025regg-57  and  won\n",
      "player 1 played battle:  battle-gen9vgc2025regg-58  and  lost\n",
      "player 1 played battle:  battle-gen9vgc2025regg-59  and  won\n",
      "player 1 played battle:  battle-gen9vgc2025regg-60  and  won\n",
      "player 1 played battle:  battle-gen9vgc2025regg-61  and  won\n"
     ]
    }
   ],
   "source": [
    "from player.naive_player import RandomVGCPlayer\n",
    "from monsters.premade_teams import get_team_1, get_team_2\n",
    "from team_builders.random_order_team import RandomOrderTeam\n",
    "\n",
    "team_builder_1 = RandomOrderTeam(get_team_1())\n",
    "\n",
    "team_builder_2 = RandomOrderTeam(get_team_2())\n",
    "\n",
    "player_1 = RandomVGCPlayer(team_builder_1)\n",
    "player_2 = RandomVGCPlayer(team_builder_2)\n",
    "\n",
    "await player_1.battle_against(player_2, n_battles=10)\n",
    "\n",
    "for battle_tag, battle in player_1.battles.items():\n",
    "    won_txt = \"lost\"\n",
    "    if battle.won:\n",
    "        won_txt = \"won\"\n",
    "    print(\"player 1 played battle: \", battle_tag, \" and \", won_txt)\n",
    "\n"
   ]
  }
 ],
 "metadata": {
  "kernelspec": {
   "display_name": "venv",
   "language": "python",
   "name": "python3"
  },
  "language_info": {
   "codemirror_mode": {
    "name": "ipython",
    "version": 3
   },
   "file_extension": ".py",
   "mimetype": "text/x-python",
   "name": "python",
   "nbconvert_exporter": "python",
   "pygments_lexer": "ipython3",
   "version": "3.9.18"
  }
 },
 "nbformat": 4,
 "nbformat_minor": 2
}
