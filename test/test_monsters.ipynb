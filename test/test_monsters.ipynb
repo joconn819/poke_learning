{
 "cells": [
  {
   "cell_type": "code",
   "execution_count": null,
   "metadata": {},
   "outputs": [],
   "source": [
    "import pytest\n",
    "\n",
    "from monsters.pokemon_monster import Pokemon\n",
    "from monsters.pokemon_data import Natures\n",
    "from monsters.pokemon_team import PokemonTeam\n",
    "\n",
    "def test_charizard():\n",
    "    charizard = Pokemon(name=\"charizard\", gender=\"M\", held_item=\"Charizardite X\", ability=\"Blaze\", nature=Natures.ADAMANT, evs=[252, 252, 0, 0, 4, 0], ivs=[31, 31, 31, 31, 31, 31], moves=[\"Flare Blitz\", \"Dragon Claw\", \"Heat Wave\", \"Earthquake\"])\n",
    "    \n",
    "    assert charizard.name == \"charizard\"\n",
    "    assert charizard.gender == \"M\"\n",
    "    assert charizard.held_item == \"charizardite x\"\n",
    "    assert charizard.ability == \"blaze\"\n",
    "    assert charizard.nature == Natures.ADAMANT\n",
    "    assert charizard.evs == [252, 252, 0, 0, 4, 0]\n",
    "    assert charizard.ivs == [31, 31, 31, 31, 31, 31]\n",
    "    assert charizard.moves == [\"flare blitz\", \"dragon claw\", \"heat wave\", \"earthquake\"]\n",
    "\n",
    "    assert charizard.check_valid_pokemon()\n",
    "\n",
    "def test_all_charizard_team():\n",
    "    charizard = Pokemon(name=\"charizard\", gender=\"male\", held_item=\"Charizardite X\", ability=\"Blaze\", nature=Natures.ADAMANT, evs=[252, 252, 0, 0, 4, 0], ivs=[31, 31, 31, 31, 31, 31], moves=[\"Flare Blitz\", \"Dragon Claw\", \"Heat Wave\", \"Earthquake\"])\n",
    "    poke_team = PokemonTeam()\n",
    "    poke_team.add_pokemon(charizard)\n",
    "    poke_team.add_pokemon(charizard)\n",
    "    poke_team.add_pokemon(charizard)\n",
    "    poke_team.add_pokemon(charizard)\n",
    "    poke_team.add_pokemon(charizard)\n",
    "    poke_team.add_pokemon(charizard)\n",
    "\n",
    "    assert poke_team.check_valid_team()\n",
    "\n",
    "def test_pokemon_from_string():\n",
    "    string = \"\"\"Calyrex-Ice @ Clear Amulet \\nAbility: As One (Glastrier)  \\nTera Type: Fairy  \\nEVs: 252 HP / 116 Atk / 4 Def / 20 SpD / 116 Spe  \\nAdamant Nature  \\n- Glacial Lance  \\n- High Horsepower  \\n- Protect  \\n- Trick Room  \"\"\"\n",
    "    \n",
    "    calyrex_ice = Pokemon()\n",
    "    calyrex_ice.set_from_string(string)\n",
    "\n",
    "    assert calyrex_ice.name == \"calyrex-ice\"\n",
    "    assert calyrex_ice.held_item == \"clear amulet\"\n",
    "    assert calyrex_ice.ability == \"as one (glastrier)\"\n",
    "    assert calyrex_ice.tera_type == \"Fairy\"\n",
    "    assert calyrex_ice.evs == [252, 116, 4, 0, 20, 116]\n",
    "    assert calyrex_ice.nature == Natures.ADAMANT\n",
    "    assert calyrex_ice.moves == [\"glacial lance\", \"high horsepower\", \"protect\", \"trick room\"]"
   ]
  }
 ],
 "metadata": {
  "kernelspec": {
   "display_name": "Python 3",
   "language": "python",
   "name": "python3"
  },
  "language_info": {
   "codemirror_mode": {
    "name": "ipython",
    "version": 3
   },
   "file_extension": ".py",
   "mimetype": "text/x-python",
   "name": "python",
   "nbconvert_exporter": "python",
   "pygments_lexer": "ipython3",
   "version": "3.11.9"
  }
 },
 "nbformat": 4,
 "nbformat_minor": 2
}
