{
 "cells": [
  {
   "cell_type": "code",
   "execution_count": 1,
   "metadata": {},
   "outputs": [
    {
     "data": {
      "text/plain": [
       "'\\nRun prior to NB\\n\\ncd pokemon-showdown\\ncp config/config-example.js config/config.js\\nnode pokemon-showdown start --no-security\\n'"
      ]
     },
     "execution_count": 1,
     "metadata": {},
     "output_type": "execute_result"
    }
   ],
   "source": [
    "### Goals\n",
    "# 1. Create simple teams \n",
    "# 2. Have simple/damage bots battle with teams\n",
    "# 3. Understand action space\n",
    "# 4. Get dummy net to take actions in battle\n",
    "\n",
    "\"\"\"\n",
    "Run prior to NB\n",
    "\n",
    "cd pokemon-showdown\n",
    "cp config/config-example.js config/config.js\n",
    "node pokemon-showdown start --no-security\n",
    "\"\"\""
   ]
  },
  {
   "cell_type": "code",
   "execution_count": null,
   "metadata": {},
   "outputs": [],
   "source": [
    "import asyncio\n",
    "import numpy as np\n",
    "import random\n",
    "import torch\n",
    "import torch.nn as nn\n",
    "\n",
    "NUM_HP_BINS = 4"
   ]
  },
  {
   "cell_type": "code",
   "execution_count": 3,
   "metadata": {},
   "outputs": [],
   "source": [
    "from poke_env import Player, RandomPlayer\n",
    "from simple_dqn import DQN"
   ]
  },
  {
   "cell_type": "code",
   "execution_count": 4,
   "metadata": {},
   "outputs": [],
   "source": [
    "class MaxDamagePlayer(Player):\n",
    "    def choose_move(self, battle):\n",
    "        # Chooses a move with the highest base power when possible\n",
    "        if battle.available_moves:\n",
    "            # Iterating over available moves to find the one with the highest base power\n",
    "            best_move = max(battle.available_moves, key=lambda move: move.base_power)\n",
    "            # Creating an order for the selected move\n",
    "            return self.create_order(best_move)\n",
    "        else:\n",
    "            # If no attacking move is available, perform a random switch\n",
    "            # This involves choosing a random move, which could be a switch or another available action\n",
    "            return self.choose_random_move(battle)"
   ]
  },
  {
   "cell_type": "code",
   "execution_count": 5,
   "metadata": {},
   "outputs": [],
   "source": [
    "class DebugPlayer(RandomPlayer):\n",
    "    def choose_move(self, battle):\n",
    "        # Print turn number\n",
    "        print(f\"Turn: {battle.turn}\")\n",
    "\n",
    "        # Print available moves\n",
    "        print(f\"Available moves: {[move.id for move in battle.available_moves]}\")\n",
    "\n",
    "        # Check battle has started\n",
    "        your_pokemon = battle.active_pokemon\n",
    "        opponent_pokemon = battle.opponent_active_pokemon\n",
    " \n",
    "        # Extract key battle info\n",
    "        state = {\n",
    "            #\"turn\": battle.turn,\n",
    "            \"your_hp\": int(NUM_HP_BINS * battle.active_pokemon.current_hp_fraction) / NUM_HP_BINS if your_pokemon else None,\n",
    "            \"your_status\": battle.active_pokemon.status if your_pokemon else None,\n",
    "            \"your_moves\": [move.id for move in battle.available_moves] if your_pokemon else None,\n",
    "            \"opponent_hp\": int(NUM_HP_BINS * battle.opponent_active_pokemon.current_hp_fraction) / NUM_HP_BINS if opponent_pokemon else None,\n",
    "            \"opponent_status\": battle.opponent_active_pokemon.status if opponent_pokemon else None\n",
    "        }\n",
    "\n",
    "        # Get type effectiveness\n",
    "        moves_dmg_multiplier = np.ones(4)\n",
    "        if battle.opponent_active_pokemon:\n",
    "            for i, move in enumerate(battle.available_moves):\n",
    "                if move.type:\n",
    "                    moves_dmg_multiplier[i] = battle.opponent_active_pokemon.damage_multiplier(move)\n",
    "        print(moves_dmg_multiplier)\n",
    "\n",
    "        # Print the state info\n",
    "        # print(f\"State: {state}\")\n",
    "\n",
    "        return super().choose_move(battle)  # Acts as a random player"
   ]
  },
  {
   "cell_type": "code",
   "execution_count": 6,
   "metadata": {},
   "outputs": [],
   "source": [
    "class DummyRLPlayer(Player):\n",
    "    def __init__(self, model, *args, **kwargs):\n",
    "        super().__init__(*args, **kwargs)\n",
    "        self.model = model  # Store DQN model\n",
    "        \n",
    "    def choose_move(self, battle):\n",
    "        # Check battle has started and get hp's\n",
    "        your_pokemon = battle.active_pokemon\n",
    "        opponent_pokemon = battle.opponent_active_pokemon\n",
    "\n",
    "        your_hp = int(NUM_HP_BINS * battle.active_pokemon.current_hp_fraction) / NUM_HP_BINS if your_pokemon else -1\n",
    "        opponent_hp = int(NUM_HP_BINS * battle.opponent_active_pokemon.current_hp_fraction) / NUM_HP_BINS if opponent_pokemon else -1\n",
    "\n",
    "        # Get available move powers\n",
    "        # -1 indicates that the move does not have a base power\n",
    "        # or is not available\n",
    "        moves_base_power = -np.ones(4)\n",
    "        moves_dmg_multiplier = np.ones(4)\n",
    "        if battle.opponent_active_pokemon:\n",
    "            for i, move in enumerate(battle.available_moves):\n",
    "                moves_base_power[i] = (\n",
    "                    move.base_power / 100\n",
    "                )  # Simple rescaling to facilitate learning\n",
    "                if move.type:\n",
    "                    moves_dmg_multiplier[i] = battle.opponent_active_pokemon.damage_multiplier(move)\n",
    "\n",
    "        # test if state has worked correctly\n",
    "        state = np.concatenate(\n",
    "            [\n",
    "                moves_base_power,\n",
    "                moves_dmg_multiplier,\n",
    "                [your_hp, opponent_hp],\n",
    "            ]\n",
    "        )\n",
    "        print(state)\n",
    "\n",
    "        # Create state vector\n",
    "        state = np.concatenate([moves_base_power, moves_dmg_multiplier, [your_hp, opponent_hp]])\n",
    "        state_tensor = torch.tensor(state, dtype=torch.float32).unsqueeze(0)  # Convert to tensor\n",
    "\n",
    "        # Get Q-values from DQN\n",
    "        with torch.no_grad():\n",
    "            q_values = self.model(state_tensor)\n",
    "\n",
    "        # Pick best move\n",
    "        best_move_idx = torch.argmax(q_values).item()\n",
    "        available_moves = battle.available_moves\n",
    "\n",
    "        if available_moves and best_move_idx < len(available_moves):\n",
    "            return self.create_order(available_moves[best_move_idx])\n",
    "        else:\n",
    "            return self.choose_random_move(battle)  # Fallback if move index is invalid\n",
    "\n",
    "\n",
    "    def compute_reward(self, battle) -> float:\n",
    "        pass"
   ]
  },
  {
   "cell_type": "code",
   "execution_count": 7,
   "metadata": {},
   "outputs": [],
   "source": [
    "# Notes:\n",
    "# must have some EV's on mons\n",
    "# would be nice to check if mon is valid without losing kernel\n",
    "\n",
    "team_1 = \"\"\"\n",
    "Charizard @ Heavy-Duty Boots\n",
    "Ability: Blaze\n",
    "EVs: 252 SpA / 4 SpD / 252 Spe\n",
    "Timid Nature\n",
    "- Roost\n",
    "- Flamethrower\n",
    "- Hurricane\n",
    "- Toxic\n",
    "\"\"\"\n",
    "team_2 = \"\"\"\n",
    "Venusaur @ Life Orb\n",
    "Ability: Chlorophyll\n",
    "EVs: 252 SpA / 4 SpD / 252 Spe\n",
    "Modest Nature\n",
    "- Growth\n",
    "- Giga Drain\n",
    "- Weather Ball\n",
    "- Sludge Bomb\n",
    "\"\"\"\n",
    "team_char = \"\"\"\n",
    "Charmander @ Leftovers\n",
    "Ability: Blaze\n",
    "EVs: 252 SpA / 4 SpD / 252 Spe\n",
    "Adamant Nature\n",
    "- Air Cutter\n",
    "- Belly Drum\n",
    "- Cut\n",
    "- Ember\n",
    "\"\"\"\n",
    "team_bulb = \"\"\"\n",
    "Bulbasaur @ Leftovers\n",
    "Ability: Overgrow\n",
    "EVs: 252 SpA / 4 SpD / 252 Spe\n",
    "Adamant Nature\n",
    "- Amnesia\n",
    "- Energy Ball\n",
    "- Outrage\n",
    "- Charm\n",
    "\"\"\"\n",
    "team_squir = \"\"\"\n",
    "Squirtle @ Leftovers\n",
    "Ability: Rain Dish\n",
    "EVs: 252 SpA / 4 SpD / 252 Spe\n",
    "Adamant Nature\n",
    "- Aqua Jet\n",
    "- Bite\n",
    "- Celebrate\n",
    "- Hail\n",
    "\"\"\""
   ]
  },
  {
   "cell_type": "code",
   "execution_count": 8,
   "metadata": {},
   "outputs": [],
   "source": [
    "async def random_player_battle(team_1, team_2, n_battles):\n",
    "    p1 = DebugPlayer(battle_format=\"gen8ou\", team=team_1)\n",
    "    p2 = RandomPlayer(battle_format=\"gen8ou\", team=team_2)\n",
    "\n",
    "    await p1.battle_against(p2, n_battles=n_battles)\n",
    "\n",
    "    for battle_tag, battle in p1.battles.items():\n",
    "        won_txt = \"lost\"\n",
    "        if battle.won:\n",
    "            won_txt = \"won\"\n",
    "        print(\"player 1 played battle: \", battle_tag, \" and \", won_txt)"
   ]
  },
  {
   "cell_type": "code",
   "execution_count": 9,
   "metadata": {},
   "outputs": [],
   "source": [
    "async def maxdam_player_battle(team_1, team_2, n_battles):\n",
    "    p3 = MaxDamagePlayer(battle_format=\"gen8ou\", team=team_1)\n",
    "    p4 = MaxDamagePlayer(battle_format=\"gen8ou\", team=team_2)\n",
    "\n",
    "    await p3.battle_against(p4, n_battles=n_battles)\n",
    "\n",
    "    for battle_tag, battle in p3.battles.items():\n",
    "        won_txt = \"lost\"\n",
    "        if battle.won:\n",
    "            won_txt = \"won\"\n",
    "        print(\"player 3 played battle: \", battle_tag, \" and \", won_txt)"
   ]
  },
  {
   "cell_type": "code",
   "execution_count": null,
   "metadata": {},
   "outputs": [
    {
     "name": "stderr",
     "output_type": "stream",
     "text": [
      "2025-02-20 17:05:33,078 - DummyRLPlayer 1 - ERROR - Unhandled exception raised while handling message:\n",
      ">battle-gen8ou-159\n",
      "|\n",
      "|t:|1740096333\n",
      "|start\n",
      "|switch|p1a: Bulbasaur|Bulbasaur, M|231/231\n",
      "|switch|p2a: Charmander|Charmander, F|100/100\n",
      "|turn|1\n",
      "Traceback (most recent call last):\n",
      "  File \"/Users/mats/Documents/VSCode/poke_learning/venv/lib/python3.9/site-packages/poke_env/ps_client/ps_client.py\", line 136, in _handle_message\n",
      "    await self._handle_battle_message(split_messages)  # type: ignore\n",
      "  File \"/Users/mats/Documents/VSCode/poke_learning/venv/lib/python3.9/site-packages/poke_env/player/player.py\", line 361, in _handle_battle_message\n",
      "    await self._handle_battle_request(battle)\n",
      "  File \"/Users/mats/Documents/VSCode/poke_learning/venv/lib/python3.9/site-packages/poke_env/player/player.py\", line 385, in _handle_battle_request\n",
      "    choice = self.choose_move(battle)\n",
      "  File \"/var/folders/_j/k_sdq_0j0sb0mhzb4c3ldlr00000gn/T/ipykernel_33807/394302777.py\", line 39, in choose_move\n",
      "    state_tensor = torch.tensor(state, dtype=torch.float32).unsqueeze(0)  # Convert to tensor\n",
      "NameError: name 'torch' is not defined\n"
     ]
    },
    {
     "name": "stdout",
     "output_type": "stream",
     "text": [
      "[0.  0.9 1.2 0.  1.  0.5 1.  0.5 1.  1. ]\n"
     ]
    }
   ],
   "source": [
    "#p1 = DebugPlayer(battle_format=\"gen8ou\", team=team_bulb)\n",
    "model = DQN() \n",
    "p1 = DummyRLPlayer(model, battle_format=\"gen8ou\", team=team_bulb)\n",
    "p2 = RandomPlayer(battle_format=\"gen8ou\", team=team_char)\n",
    "\n",
    "await p1.battle_against(p2, n_battles=1)\n",
    "\n",
    "for battle_tag, battle in p1.battles.items():\n",
    "    won_txt = \"lost\"\n",
    "    if battle.won:\n",
    "        won_txt = \"won\"\n",
    "    print(\"player 1 played battle: \", battle_tag, \" and \", won_txt)"
   ]
  },
  {
   "cell_type": "code",
   "execution_count": null,
   "metadata": {},
   "outputs": [
    {
     "data": {
      "text/plain": [
       "'if __name__ == \"__main__\":\\n    t1 = team_bulb\\n    t2 = team_squir\\n    task = asyncio.create_task(random_player_battle(t1, t2, 1))\\n    await task'"
      ]
     },
     "execution_count": 11,
     "metadata": {},
     "output_type": "execute_result"
    }
   ],
   "source": [
    "\"\"\"if __name__ == \"__main__\":\n",
    "    t1 = team_bulb\n",
    "    t2 = team_squir\n",
    "    task = asyncio.create_task(random_player_battle(t1, t2, 1))\n",
    "    await task\"\"\""
   ]
  }
 ],
 "metadata": {
  "kernelspec": {
   "display_name": "venv",
   "language": "python",
   "name": "python3"
  },
  "language_info": {
   "codemirror_mode": {
    "name": "ipython",
    "version": 3
   },
   "file_extension": ".py",
   "mimetype": "text/x-python",
   "name": "python",
   "nbconvert_exporter": "python",
   "pygments_lexer": "ipython3",
   "version": "3.9.18"
  }
 },
 "nbformat": 4,
 "nbformat_minor": 2
}
