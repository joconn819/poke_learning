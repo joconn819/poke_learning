{
 "cells": [
  {
   "cell_type": "code",
   "execution_count": 1,
   "metadata": {},
   "outputs": [
    {
     "data": {
      "text/plain": [
       "'\\nRun prior to NB:\\n\\ncd pokemon-showdown\\ncp config/config-example.js config/config.js\\nnode pokemon-showdown start --no-security\\n'"
      ]
     },
     "execution_count": 1,
     "metadata": {},
     "output_type": "execute_result"
    }
   ],
   "source": [
    "### Goals\n",
    "# 1. Create simple teams \n",
    "# 2. Have simple/damage bots battle with teams\n",
    "# 3. Understand action space\n",
    "# 4. Get dummy net to take actions in battle\n",
    "\n",
    "\"\"\"\n",
    "Run prior to NB:\n",
    "\n",
    "cd pokemon-showdown\n",
    "cp config/config-example.js config/config.js\n",
    "node pokemon-showdown start --no-security\n",
    "\"\"\""
   ]
  },
  {
   "cell_type": "code",
   "execution_count": 2,
   "metadata": {},
   "outputs": [],
   "source": [
    "import asyncio\n",
    "import numpy as np\n",
    "import random\n",
    "import torch\n",
    "import torch.nn as nn\n",
    "import torch.nn.functional as F\n",
    "from collections import deque\n",
    "from tqdm import tqdm\n",
    "import matplotlib.pyplot as plt\n",
    "\n",
    "# Tring to squelch bad poke-env move outputs (e.g.: locked into outrage)\n",
    "import logging\n",
    "logging.getLogger(\"poke_env\").setLevel(logging.CRITICAL)\n",
    "\n",
    "# Global variable for coarse graining hp states\n",
    "NUM_HP_BINS = 4"
   ]
  },
  {
   "cell_type": "code",
   "execution_count": 3,
   "metadata": {},
   "outputs": [],
   "source": [
    "from poke_env import Player, RandomPlayer\n",
    "from simple_dqn import DQN"
   ]
  },
  {
   "cell_type": "code",
   "execution_count": 4,
   "metadata": {},
   "outputs": [],
   "source": [
    "# From poke-env docs\n",
    "\n",
    "class MaxDamagePlayer(Player):\n",
    "    def choose_move(self, battle):\n",
    "        # Chooses a move with the highest base power when possible\n",
    "        if battle.available_moves:\n",
    "            # Iterating over available moves to find the one with the highest base power\n",
    "            best_move = max(battle.available_moves, key=lambda move: move.base_power)\n",
    "            # Creating an order for the selected move\n",
    "            return self.create_order(best_move)\n",
    "        else:\n",
    "            # If no attacking move is available, perform a random switch\n",
    "            # This involves choosing a random move, which could be a switch or another available action\n",
    "            return self.choose_random_move(battle)"
   ]
  },
  {
   "cell_type": "code",
   "execution_count": 5,
   "metadata": {},
   "outputs": [],
   "source": [
    "class DebugPlayer(RandomPlayer):\n",
    "    def choose_move(self, battle):\n",
    "        # Print turn number\n",
    "        print(f\"Turn: {battle.turn}\")\n",
    "\n",
    "        # Print available moves\n",
    "        print(f\"Available moves: {[move.id for move in battle.available_moves]}\")\n",
    "\n",
    "        # Check battle has started\n",
    "        your_pokemon = battle.active_pokemon\n",
    "        opponent_pokemon = battle.opponent_active_pokemon\n",
    " \n",
    "        # Extract key battle info\n",
    "        state = {\n",
    "            #\"turn\": battle.turn,\n",
    "            \"your_hp\": int(NUM_HP_BINS * battle.active_pokemon.current_hp_fraction) / NUM_HP_BINS if your_pokemon else None,\n",
    "            \"your_status\": battle.active_pokemon.status if your_pokemon else None,\n",
    "            \"your_moves\": [move.id for move in battle.available_moves] if your_pokemon else None,\n",
    "            \"opponent_hp\": int(NUM_HP_BINS * battle.opponent_active_pokemon.current_hp_fraction) / NUM_HP_BINS if opponent_pokemon else None,\n",
    "            \"opponent_status\": battle.opponent_active_pokemon.status if opponent_pokemon else None\n",
    "        }\n",
    "\n",
    "        # Get type effectiveness\n",
    "        moves_dmg_multiplier = np.ones(4)\n",
    "        if battle.opponent_active_pokemon:\n",
    "            for i, move in enumerate(battle.available_moves):\n",
    "                if move.type:\n",
    "                    moves_dmg_multiplier[i] = battle.opponent_active_pokemon.damage_multiplier(move)\n",
    "\n",
    "        # Print the state info\n",
    "        # print(f\"State: {state}\")\n",
    "\n",
    "        return super().choose_move(battle)  # Act as a random player"
   ]
  },
  {
   "cell_type": "code",
   "execution_count": 6,
   "metadata": {},
   "outputs": [],
   "source": [
    "# adjusted from poke-env docs\n",
    "# dummy player that observes the battle and passes state to dqn for random action\n",
    "\n",
    "class DummyRLPlayer(Player):\n",
    "    def __init__(self, model, *args, **kwargs):\n",
    "        super().__init__(*args, **kwargs)\n",
    "        self.model = model  # Store DQN model\n",
    "        \n",
    "    def choose_move(self, battle):\n",
    "        # Check battle has started and get hp's\n",
    "        your_pokemon = battle.active_pokemon\n",
    "        opponent_pokemon = battle.opponent_active_pokemon\n",
    "\n",
    "        your_hp = int(NUM_HP_BINS * battle.active_pokemon.current_hp_fraction) / NUM_HP_BINS if your_pokemon else -1\n",
    "        opponent_hp = int(NUM_HP_BINS * battle.opponent_active_pokemon.current_hp_fraction) / NUM_HP_BINS if opponent_pokemon else -1\n",
    "\n",
    "        # Get available move powers\n",
    "        # -1 indicates that the move does not have a base power\n",
    "        # or is not available\n",
    "        moves_base_power = -np.ones(4)\n",
    "        moves_dmg_multiplier = np.ones(4)\n",
    "        if battle.opponent_active_pokemon:\n",
    "            for i, move in enumerate(battle.available_moves):\n",
    "                moves_base_power[i] = (\n",
    "                    move.base_power / 100\n",
    "                )  # Simple rescaling to facilitate learning\n",
    "                if move.type:\n",
    "                    moves_dmg_multiplier[i] = battle.opponent_active_pokemon.damage_multiplier(move)\n",
    "\n",
    "        # test if state has worked correctly\n",
    "        state = np.concatenate(\n",
    "            [\n",
    "                moves_base_power,\n",
    "                moves_dmg_multiplier,\n",
    "                [your_hp, opponent_hp],\n",
    "            ]\n",
    "        )\n",
    "\n",
    "        # Create state vector\n",
    "        state = np.concatenate([moves_base_power, moves_dmg_multiplier, [your_hp, opponent_hp]])\n",
    "        state_tensor = torch.tensor(state, dtype=torch.float32).unsqueeze(0)  # Convert to tensor\n",
    "\n",
    "        # Get Q-values from DQN\n",
    "        with torch.no_grad():\n",
    "            q_values = self.model(state_tensor)\n",
    "\n",
    "        # \"Best\" move is just random b/c dqn doesn't train\n",
    "        best_move_idx = torch.argmax(q_values).item()\n",
    "        available_moves = battle.available_moves\n",
    "\n",
    "        # Simple check, doesn't factor pp yet\n",
    "        if available_moves and best_move_idx < len(available_moves):\n",
    "            return self.create_order(available_moves[best_move_idx])\n",
    "        else:\n",
    "            return self.choose_random_move(battle)  # Fallback if move index is invalid\n",
    "\n",
    "\n",
    "    def compute_reward(self, battle) -> float:\n",
    "        pass"
   ]
  },
  {
   "cell_type": "code",
   "execution_count": null,
   "metadata": {},
   "outputs": [],
   "source": [
    "# Testing simple RL player\n",
    "# add dqn model to player class\n",
    "\n",
    "class SimpleRLPlayer(Player):\n",
    "    def __init__(self, model, *args, **kwargs):\n",
    "        super().__init__(*args, **kwargs)\n",
    "        self.model = model\n",
    "        self.memory = deque(maxlen=10000)  # Experience replay buffer\n",
    "        self.gamma = 0.99\n",
    "        self.optimizer = torch.optim.Adam(self.model.parameters(), lr=0.001)\n",
    "        \n",
    "    def choose_move(self, battle):\n",
    "        # Convert battle state into a vector\n",
    "        state = self.get_state_vector(battle)\n",
    "        state_tensor = torch.tensor(state, dtype=torch.float32).unsqueeze(0)\n",
    "\n",
    "        # Get Q-values and pick best move\n",
    "        with torch.no_grad():\n",
    "            q_values = self.model(state_tensor)\n",
    "        \n",
    "        # Best move now informed by RL\n",
    "        best_move_idx = torch.argmax(q_values).item()\n",
    "        available_moves = battle.available_moves\n",
    "\n",
    "        # Compute reward for action\n",
    "        reward = self.compute_reward(battle)\n",
    "        next_state = self.get_state_vector(battle)  # Next state (after move)\n",
    "        done = battle.finished  # Check if the battle is over\n",
    "        action_idx = best_move_idx  # Action taken\n",
    "\n",
    "        # Store state-action\n",
    "        self.memory.append((state, action_idx, reward, next_state, done))\n",
    "\n",
    "        # Simple check, doesn't factor pp yet\n",
    "        if available_moves and best_move_idx < len(available_moves):\n",
    "            return self.create_order(available_moves[best_move_idx])\n",
    "        else:\n",
    "            return self.choose_random_move(battle)  # Fallback move\n",
    "        \n",
    "    def get_state_vector(self, battle):\n",
    "        ### Convert battle info to state vector\n",
    "        # State info is very simple atm\n",
    "        # move bp, type effectiveness, and hp values\n",
    "        your_pokemon = battle.active_pokemon\n",
    "        opponent_pokemon = battle.opponent_active_pokemon\n",
    "\n",
    "        your_hp = int(NUM_HP_BINS * battle.active_pokemon.current_hp_fraction) / NUM_HP_BINS if your_pokemon else -1\n",
    "        opponent_hp = int(NUM_HP_BINS * battle.opponent_active_pokemon.current_hp_fraction) / NUM_HP_BINS if opponent_pokemon else -1\n",
    "\n",
    "        moves_base_power = -np.ones(4)\n",
    "        moves_dmg_multiplier = np.ones(4)\n",
    "\n",
    "        if battle.opponent_active_pokemon:\n",
    "            for i, move in enumerate(battle.available_moves):\n",
    "                moves_base_power[i] = move.base_power / 100\n",
    "                if move.type:\n",
    "                    moves_dmg_multiplier[i] = battle.opponent_active_pokemon.damage_multiplier(move)\n",
    "\n",
    "        return np.concatenate([moves_base_power, moves_dmg_multiplier, [your_hp, opponent_hp]])\n",
    "\n",
    "    def train(self, batch_size=32):\n",
    "        ###Updates the DQN model using stored experience\n",
    "        if len(self.memory) < batch_size:\n",
    "            return  # Don't train until we have enough experiences\n",
    "\n",
    "        batch = random.sample(self.memory, batch_size)\n",
    "        states, actions, rewards, next_states, dones = zip(*batch)\n",
    "\n",
    "        states = torch.tensor(np.array(states), dtype=torch.float32)\n",
    "        actions = torch.tensor(np.array(actions), dtype=torch.int64).unsqueeze(1)\n",
    "        rewards = torch.tensor(np.array(rewards), dtype=torch.float32).unsqueeze(1)\n",
    "        next_states = torch.tensor(np.array(next_states), dtype=torch.float32)\n",
    "        dones = torch.tensor(np.array(dones), dtype=torch.float32).unsqueeze(1)\n",
    "\n",
    "        # Compute current Q-values\n",
    "        q_values = self.model(states).gather(1, actions)\n",
    "\n",
    "        # Compute next Q-values using target network\n",
    "        with torch.no_grad():\n",
    "            next_q_values = self.model(next_states).max(1)[0].unsqueeze(1)\n",
    "\n",
    "        target_q_values = rewards + (self.gamma * next_q_values * (1 - dones))\n",
    "\n",
    "        # Compute loss and update model\n",
    "        loss = F.mse_loss(q_values, target_q_values)\n",
    "        self.optimizer.zero_grad()\n",
    "        loss.backward()\n",
    "        self.optimizer.step()\n",
    "\n",
    "    def compute_reward(self, battle) -> float:\n",
    "        reward = 0\n",
    "\n",
    "        # Reward for reducing opponent HP\n",
    "        if battle.opponent_active_pokemon:\n",
    "            reward += np.power((1 - battle.opponent_active_pokemon.current_hp_fraction), 1) * 1\n",
    "\n",
    "        # Reward for maintaining hp\n",
    "        if battle.active_pokemon:\n",
    "            reward += np.power((battle.active_pokemon.current_hp_fraction), 1) * 1\n",
    "\n",
    "        # Reward for dealing the final blow\n",
    "        # if battle.opponent_active_pokemon and battle.opponent_active_pokemon.fainted:\n",
    "        #    reward += 10\n",
    "\n",
    "        # Reward for winning\n",
    "        if battle.won:\n",
    "            #print(\"win\")\n",
    "            reward += 100\n",
    "\n",
    "        return reward"
   ]
  },
  {
   "cell_type": "code",
   "execution_count": 8,
   "metadata": {},
   "outputs": [],
   "source": [
    "# Notes:\n",
    "# must have some EV's on mons\n",
    "# would be nice to check if mon is valid without losing kernel\n",
    "\n",
    "team_1 = \"\"\"\n",
    "Charizard @ Heavy-Duty Boots\n",
    "Ability: Blaze\n",
    "EVs: 252 SpA / 4 SpD / 252 Spe\n",
    "Timid Nature\n",
    "- Roost\n",
    "- Flamethrower\n",
    "- Hurricane\n",
    "- Toxic\n",
    "\"\"\"\n",
    "team_2 = \"\"\"\n",
    "Venusaur @ Life Orb\n",
    "Ability: Chlorophyll\n",
    "EVs: 252 SpA / 4 SpD / 252 Spe\n",
    "Modest Nature\n",
    "- Growth\n",
    "- Giga Drain\n",
    "- Weather Ball\n",
    "- Sludge Bomb\n",
    "\"\"\"\n",
    "team_char = \"\"\"\n",
    "Charmander @ Leftovers\n",
    "Ability: Blaze\n",
    "EVs: 252 SpA / 4 SpD / 252 Spe\n",
    "Adamant Nature\n",
    "- Air Cutter\n",
    "- Belly Drum\n",
    "- Cut\n",
    "- Ember\n",
    "\"\"\"\n",
    "team_embchar = \"\"\"\n",
    "Charmander @ Leftovers\n",
    "Ability: Blaze\n",
    "EVs: 252 SpA / 4 SpD / 252 Spe\n",
    "Adamant Nature\n",
    "- Ember\n",
    "\"\"\"\n",
    "team_bulb = \"\"\"\n",
    "Bulbasaur @ Leftovers\n",
    "Ability: Overgrow\n",
    "EVs: 252 SpA / 4 SpD / 252 Spe\n",
    "Adamant Nature\n",
    "- Amnesia\n",
    "- Energy Ball\n",
    "- Outrage\n",
    "- Charm\n",
    "\"\"\"\n",
    "team_squir = \"\"\"\n",
    "Squirtle @ Leftovers\n",
    "Ability: Rain Dish\n",
    "EVs: 252 SpA / 4 SpD / 252 Spe\n",
    "Adamant Nature\n",
    "- Aqua Jet\n",
    "- Bite\n",
    "- Shell Smash\n",
    "- Hail\n",
    "\"\"\"\n",
    "team_bliss = \"\"\"\n",
    "Blissey @ Heavy-Duty Boots\n",
    "Ability: Natural Cure\n",
    "EVs: 252 HP / 252 Def / 4 SpD\n",
    "Bold Nature\n",
    "- Seismic Toss\n",
    "- Soft-Boiled\n",
    "- Charm\n",
    "- Disarming Voice\n",
    "\"\"\"\n",
    "team_champ = \"\"\"\n",
    "Machop @ Choice Scarf\n",
    "Ability: Guts\n",
    "EVs: 252 HP / 252 Def / 4 SpD\n",
    "Bold Nature\n",
    "- Brick Break\n",
    "\"\"\""
   ]
  },
  {
   "cell_type": "code",
   "execution_count": 9,
   "metadata": {},
   "outputs": [],
   "source": [
    "async def random_player_battle(team_1, team_2, n_battles):\n",
    "    p1 = DebugPlayer(battle_format=\"gen8ou\", team=team_1)\n",
    "    p2 = RandomPlayer(battle_format=\"gen8ou\", team=team_2)\n",
    "\n",
    "    await p1.battle_against(p2, n_battles=n_battles)\n",
    "\n",
    "    for battle_tag, battle in p1.battles.items():\n",
    "        won_txt = \"lost\"\n",
    "        if battle.won:\n",
    "            won_txt = \"won\"\n",
    "        print(\"player 1 played battle: \", battle_tag, \" and \", won_txt)"
   ]
  },
  {
   "cell_type": "code",
   "execution_count": 10,
   "metadata": {},
   "outputs": [],
   "source": [
    "async def maxdam_player_battle(team_1, team_2, n_battles):\n",
    "    p3 = MaxDamagePlayer(battle_format=\"gen8ou\", team=team_1)\n",
    "    p4 = MaxDamagePlayer(battle_format=\"gen8ou\", team=team_2)\n",
    "\n",
    "    await p3.battle_against(p4, n_battles=n_battles)\n",
    "\n",
    "    for battle_tag, battle in p3.battles.items():\n",
    "        won_txt = \"lost\"\n",
    "        if battle.won:\n",
    "            won_txt = \"won\"\n",
    "        print(\"player 3 played battle: \", battle_tag, \" and \", won_txt)"
   ]
  },
  {
   "cell_type": "code",
   "execution_count": 11,
   "metadata": {},
   "outputs": [],
   "source": [
    "# Runs one battle with players in showdown local server\n",
    "test = False\n",
    "\n",
    "if test:\n",
    "    #p1 = DebugPlayer(battle_format=\"gen8ou\", team=team_bulb)\n",
    "    model = DQN() \n",
    "    p1 = SimpleRLPlayer(model, battle_format=\"gen8ou\", team=team_bliss)\n",
    "    p2 = RandomPlayer(battle_format=\"gen8ou\", team=team_bliss)\n",
    "\n",
    "    await p1.battle_against(p2, n_battles=1)\n",
    "\n",
    "    for battle_tag, battle in p1.battles.items():\n",
    "        won_txt = \"lost\"\n",
    "        if battle.won:\n",
    "            won_txt = \"won\"\n",
    "        print(\"player 1 played battle: \", battle_tag, \" and \", won_txt)"
   ]
  },
  {
   "cell_type": "code",
   "execution_count": 12,
   "metadata": {},
   "outputs": [
    {
     "name": "stderr",
     "output_type": "stream",
     "text": [
      "Training Progress:   2%|▏         | 20/1000 [00:00<00:23, 42.05it/s]"
     ]
    },
    {
     "name": "stdout",
     "output_type": "stream",
     "text": [
      "win\n",
      "win\n"
     ]
    },
    {
     "name": "stderr",
     "output_type": "stream",
     "text": [
      "Training Progress:   5%|▍         | 48/1000 [00:00<00:15, 63.40it/s]"
     ]
    },
    {
     "name": "stdout",
     "output_type": "stream",
     "text": [
      "win\n",
      "win\n"
     ]
    },
    {
     "name": "stderr",
     "output_type": "stream",
     "text": [
      "Training Progress:   6%|▌         | 62/1000 [00:01<00:14, 64.64it/s]"
     ]
    },
    {
     "name": "stdout",
     "output_type": "stream",
     "text": [
      "win\n"
     ]
    },
    {
     "name": "stderr",
     "output_type": "stream",
     "text": [
      "Training Progress:  10%|▉         | 95/1000 [00:01<00:11, 75.44it/s]"
     ]
    },
    {
     "name": "stdout",
     "output_type": "stream",
     "text": [
      "win\n"
     ]
    },
    {
     "name": "stderr",
     "output_type": "stream",
     "text": [
      "Training Progress:  11%|█▏        | 113/1000 [00:01<00:11, 78.17it/s]"
     ]
    },
    {
     "name": "stdout",
     "output_type": "stream",
     "text": [
      "win\n",
      "win\n"
     ]
    },
    {
     "name": "stderr",
     "output_type": "stream",
     "text": [
      "Training Progress:  14%|█▍        | 138/1000 [00:02<00:11, 71.88it/s]"
     ]
    },
    {
     "name": "stdout",
     "output_type": "stream",
     "text": [
      "win\n"
     ]
    },
    {
     "name": "stderr",
     "output_type": "stream",
     "text": [
      "Training Progress:  16%|█▋        | 165/1000 [00:02<00:10, 80.11it/s]"
     ]
    },
    {
     "name": "stdout",
     "output_type": "stream",
     "text": [
      "win\n"
     ]
    },
    {
     "name": "stderr",
     "output_type": "stream",
     "text": [
      "Training Progress:  20%|█▉        | 199/1000 [00:02<00:11, 71.62it/s]"
     ]
    },
    {
     "name": "stdout",
     "output_type": "stream",
     "text": [
      "win\n"
     ]
    },
    {
     "name": "stderr",
     "output_type": "stream",
     "text": [
      "Training Progress:  22%|██▏       | 215/1000 [00:03<00:10, 73.20it/s]"
     ]
    },
    {
     "name": "stdout",
     "output_type": "stream",
     "text": [
      "win\n",
      "win\n"
     ]
    },
    {
     "name": "stderr",
     "output_type": "stream",
     "text": [
      "Training Progress:  26%|██▌       | 258/1000 [00:03<00:10, 72.82it/s]"
     ]
    },
    {
     "name": "stdout",
     "output_type": "stream",
     "text": [
      "win\n",
      "win\n",
      "win\n"
     ]
    },
    {
     "name": "stderr",
     "output_type": "stream",
     "text": [
      "Training Progress:  32%|███▏      | 317/1000 [00:04<00:11, 61.54it/s]"
     ]
    },
    {
     "name": "stdout",
     "output_type": "stream",
     "text": [
      "win\n",
      "win\n"
     ]
    },
    {
     "name": "stderr",
     "output_type": "stream",
     "text": [
      "Training Progress:  33%|███▎      | 332/1000 [00:05<00:10, 65.38it/s]"
     ]
    },
    {
     "name": "stdout",
     "output_type": "stream",
     "text": [
      "win\n",
      "win\n"
     ]
    },
    {
     "name": "stderr",
     "output_type": "stream",
     "text": [
      "Training Progress:  35%|███▌      | 354/1000 [00:05<00:09, 65.81it/s]"
     ]
    },
    {
     "name": "stdout",
     "output_type": "stream",
     "text": [
      "win\n"
     ]
    },
    {
     "name": "stderr",
     "output_type": "stream",
     "text": [
      "Training Progress:  38%|███▊      | 380/1000 [00:05<00:08, 75.48it/s]"
     ]
    },
    {
     "name": "stdout",
     "output_type": "stream",
     "text": [
      "win\n",
      "win\n"
     ]
    },
    {
     "name": "stderr",
     "output_type": "stream",
     "text": [
      "Training Progress:  40%|███▉      | 396/1000 [00:05<00:07, 77.24it/s]"
     ]
    },
    {
     "name": "stdout",
     "output_type": "stream",
     "text": [
      "win\n"
     ]
    },
    {
     "name": "stderr",
     "output_type": "stream",
     "text": [
      "Training Progress:  41%|████▏     | 413/1000 [00:06<00:07, 78.52it/s]"
     ]
    },
    {
     "name": "stdout",
     "output_type": "stream",
     "text": [
      "win\n",
      "win\n",
      "win\n"
     ]
    },
    {
     "name": "stderr",
     "output_type": "stream",
     "text": [
      "Training Progress:  43%|████▎     | 431/1000 [00:06<00:07, 79.82it/s]"
     ]
    },
    {
     "name": "stdout",
     "output_type": "stream",
     "text": [
      "win\n",
      "win\n",
      "win\n",
      "win\n"
     ]
    },
    {
     "name": "stderr",
     "output_type": "stream",
     "text": [
      "Training Progress:  46%|████▌     | 456/1000 [00:06<00:07, 74.19it/s]"
     ]
    },
    {
     "name": "stdout",
     "output_type": "stream",
     "text": [
      "win\n"
     ]
    },
    {
     "name": "stderr",
     "output_type": "stream",
     "text": [
      "Training Progress:  52%|█████▏    | 524/1000 [00:07<00:06, 72.46it/s]"
     ]
    },
    {
     "name": "stdout",
     "output_type": "stream",
     "text": [
      "win\n",
      "win\n",
      "win\n"
     ]
    },
    {
     "name": "stderr",
     "output_type": "stream",
     "text": [
      "Training Progress:  55%|█████▍    | 549/1000 [00:07<00:05, 76.41it/s]"
     ]
    },
    {
     "name": "stdout",
     "output_type": "stream",
     "text": [
      "win\n"
     ]
    },
    {
     "name": "stderr",
     "output_type": "stream",
     "text": [
      "Training Progress:  57%|█████▋    | 573/1000 [00:08<00:05, 75.52it/s]"
     ]
    },
    {
     "name": "stdout",
     "output_type": "stream",
     "text": [
      "win\n",
      "win\n",
      "win\n"
     ]
    },
    {
     "name": "stderr",
     "output_type": "stream",
     "text": [
      "Training Progress:  61%|██████    | 606/1000 [00:08<00:05, 77.33it/s]"
     ]
    },
    {
     "name": "stdout",
     "output_type": "stream",
     "text": [
      "win\n",
      "win\n",
      "win\n"
     ]
    },
    {
     "name": "stderr",
     "output_type": "stream",
     "text": [
      "Training Progress:  62%|██████▏   | 622/1000 [00:08<00:05, 67.24it/s]"
     ]
    },
    {
     "name": "stdout",
     "output_type": "stream",
     "text": [
      "win\n",
      "win\n"
     ]
    },
    {
     "name": "stderr",
     "output_type": "stream",
     "text": [
      "Training Progress:  65%|██████▌   | 652/1000 [00:09<00:05, 68.50it/s]"
     ]
    },
    {
     "name": "stdout",
     "output_type": "stream",
     "text": [
      "win\n"
     ]
    },
    {
     "name": "stderr",
     "output_type": "stream",
     "text": [
      "Training Progress:  68%|██████▊   | 677/1000 [00:09<00:04, 75.30it/s]"
     ]
    },
    {
     "name": "stdout",
     "output_type": "stream",
     "text": [
      "win\n",
      "win\n",
      "win\n",
      "win\n"
     ]
    },
    {
     "name": "stderr",
     "output_type": "stream",
     "text": [
      "Training Progress:  69%|██████▉   | 693/1000 [00:09<00:04, 70.49it/s]"
     ]
    },
    {
     "name": "stdout",
     "output_type": "stream",
     "text": [
      "win\n",
      "win\n",
      "win\n"
     ]
    },
    {
     "name": "stderr",
     "output_type": "stream",
     "text": [
      "Training Progress:  73%|███████▎  | 733/1000 [00:10<00:03, 76.42it/s]"
     ]
    },
    {
     "name": "stdout",
     "output_type": "stream",
     "text": [
      "win\n"
     ]
    },
    {
     "name": "stderr",
     "output_type": "stream",
     "text": [
      "Training Progress:  76%|███████▋  | 765/1000 [00:10<00:03, 71.85it/s]"
     ]
    },
    {
     "name": "stdout",
     "output_type": "stream",
     "text": [
      "win\n"
     ]
    },
    {
     "name": "stderr",
     "output_type": "stream",
     "text": [
      "Training Progress:  78%|███████▊  | 781/1000 [00:11<00:02, 74.22it/s]"
     ]
    },
    {
     "name": "stdout",
     "output_type": "stream",
     "text": [
      "win\n",
      "win\n",
      "win\n",
      "win\n",
      "win\n"
     ]
    },
    {
     "name": "stderr",
     "output_type": "stream",
     "text": [
      "Training Progress:  80%|███████▉  | 797/1000 [00:11<00:02, 75.28it/s]"
     ]
    },
    {
     "name": "stdout",
     "output_type": "stream",
     "text": [
      "win\n"
     ]
    },
    {
     "name": "stderr",
     "output_type": "stream",
     "text": [
      "Training Progress:  82%|████████▏ | 822/1000 [00:11<00:02, 65.29it/s]"
     ]
    },
    {
     "name": "stdout",
     "output_type": "stream",
     "text": [
      "win\n",
      "win\n"
     ]
    },
    {
     "name": "stderr",
     "output_type": "stream",
     "text": [
      "Training Progress:  86%|████████▌ | 855/1000 [00:12<00:01, 75.44it/s]"
     ]
    },
    {
     "name": "stdout",
     "output_type": "stream",
     "text": [
      "win\n",
      "win\n",
      "win\n",
      "win\n"
     ]
    },
    {
     "name": "stderr",
     "output_type": "stream",
     "text": [
      "Training Progress:  89%|████████▉ | 893/1000 [00:12<00:01, 67.39it/s]"
     ]
    },
    {
     "name": "stdout",
     "output_type": "stream",
     "text": [
      "win\n"
     ]
    },
    {
     "name": "stderr",
     "output_type": "stream",
     "text": [
      "Training Progress:  91%|█████████ | 909/1000 [00:13<00:01, 71.78it/s]"
     ]
    },
    {
     "name": "stdout",
     "output_type": "stream",
     "text": [
      "win\n",
      "win\n",
      "win\n",
      "win\n"
     ]
    },
    {
     "name": "stderr",
     "output_type": "stream",
     "text": [
      "Training Progress:  94%|█████████▍| 941/1000 [00:13<00:00, 76.67it/s]"
     ]
    },
    {
     "name": "stdout",
     "output_type": "stream",
     "text": [
      "win\n"
     ]
    },
    {
     "name": "stderr",
     "output_type": "stream",
     "text": [
      "Training Progress:  99%|█████████▉| 989/1000 [00:14<00:00, 72.98it/s]"
     ]
    },
    {
     "name": "stdout",
     "output_type": "stream",
     "text": [
      "win\n",
      "win\n"
     ]
    },
    {
     "name": "stderr",
     "output_type": "stream",
     "text": [
      "Training Progress: 100%|██████████| 1000/1000 [00:14<00:00, 70.28it/s]"
     ]
    },
    {
     "name": "stdout",
     "output_type": "stream",
     "text": [
      "win\n",
      "win\n",
      "win\n"
     ]
    },
    {
     "name": "stderr",
     "output_type": "stream",
     "text": [
      "\n"
     ]
    }
   ],
   "source": [
    "model = DQN()\n",
    "agent = SimpleRLPlayer(model, battle_format=\"gen8ou\", team=team_bliss)\n",
    "opponent = RandomPlayer(battle_format=\"gen8ou\", team=team_champ)\n",
    "\n",
    "NUM_EPISODES = 1000\n",
    "NUM_BATTLES = 1\n",
    "\n",
    "n_won_battles = 0\n",
    "win_rates = []\n",
    "batch_n_won_battles = 0\n",
    "batch_win_rates = []\n",
    "episode_rewards = []\n",
    "\n",
    "for episode in tqdm(range(NUM_EPISODES), desc=\"Training Progress\"):\n",
    "    await agent.battle_against(opponent, n_battles=NUM_BATTLES)\n",
    "\n",
    "    total_reward = 0\n",
    "\n",
    "    # Save the experience\n",
    "    for battle in agent.battles.values():\n",
    "        state = agent.get_state_vector(battle)\n",
    "        reward = agent.compute_reward(battle)\n",
    "        next_state = agent.get_state_vector(battle)  # Next state (same for now)\n",
    "        done = battle.finished  # Check if battle ended\n",
    "        action = 0  # Placeholder (fix later)\n",
    "        agent.memory.append((state, action, reward, next_state, done))\n",
    "        #total_reward += reward  # Sum rewards for this episode\n",
    "        total_reward += sum(r for _, _, r, _, _ in agent.memory)\n",
    "\n",
    "    # Train the model\n",
    "    agent.train(batch_size=32)\n",
    "\n",
    "    # Check in on outputs\n",
    "    if episode < -50:\n",
    "        print(f\"Episode {episode} - {agent.n_won_battles}\")\n",
    "\n",
    "    # Store win rate\n",
    "    n_won_battles += agent.n_won_battles\n",
    "    win_rate = n_won_battles / (NUM_BATTLES * (episode + 1))\n",
    "    win_rates.append(win_rate)\n",
    "    \n",
    "    # Store total reward for episode\n",
    "    episode_rewards.append(total_reward)\n",
    "\n",
    "    # Reset battles\n",
    "    agent.reset_battles()\n",
    "\n",
    "# Save trained model if desired\n",
    "#torch.save(model.state_dict(), \"dqn_model.pth\")\n"
   ]
  },
  {
   "cell_type": "code",
   "execution_count": 13,
   "metadata": {},
   "outputs": [
    {
     "data": {
      "image/png": "[encoded data removed]",
      "text/plain": [
       "<Figure size 800x500 with 1 Axes>"
      ]
     },
     "metadata": {},
     "output_type": "display_data"
    },
    {
     "data": {
      "image/png": "[encoded data removed]",
      "text/plain": [
       "<Figure size 800x500 with 1 Axes>"
      ]
     },
     "metadata": {},
     "output_type": "display_data"
    }
   ],
   "source": [
    "# Plot Win Rate Over Time\n",
    "plt.figure(figsize=(8, 5))\n",
    "plt.plot(range(NUM_EPISODES), win_rates, label=\"Win Rate\")\n",
    "plt.xlabel(\"Episodes\")\n",
    "plt.ylabel(\"Win Rate\")\n",
    "plt.title(\"Win Rate Over Time\")\n",
    "plt.legend()\n",
    "plt.show()\n",
    "\n",
    "# Plot Reward Over Time\n",
    "plt.figure(figsize=(8, 5))\n",
    "plt.plot(range(NUM_EPISODES), episode_rewards, label=\"Total Reward per Episode\")\n",
    "plt.xlabel(\"Episodes\")\n",
    "plt.ylabel(\"Total Reward\")\n",
    "plt.title(\"Agent Improvement Over Time\")\n",
    "plt.legend()\n",
    "plt.show()"
   ]
  }
 ],
 "metadata": {
  "kernelspec": {
   "display_name": "venv",
   "language": "python",
   "name": "python3"
  },
  "language_info": {
   "codemirror_mode": {
    "name": "ipython",
    "version": 3
   },
   "file_extension": ".py",
   "mimetype": "text/x-python",
   "name": "python",
   "nbconvert_exporter": "python",
   "pygments_lexer": "ipython3",
   "version": "3.9.18"
  }
 },
 "nbformat": 4,
 "nbformat_minor": 2
}
